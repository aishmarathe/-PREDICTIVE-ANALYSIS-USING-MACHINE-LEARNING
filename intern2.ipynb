{
  "nbformat": 4,
  "nbformat_minor": 0,
  "metadata": {
    "colab": {
      "provenance": []
    },
    "kernelspec": {
      "name": "python3",
      "display_name": "Python 3"
    },
    "language_info": {
      "name": "python"
    }
  },
  "cells": [
    {
      "cell_type": "code",
      "execution_count": 2,
      "metadata": {
        "colab": {
          "base_uri": "https://localhost:8080/"
        },
        "id": "BopMZL5C-_k1",
        "outputId": "cd3c07cf-ae5d-469d-e9c9-5dd6a078e607"
      },
      "outputs": [
        {
          "output_type": "stream",
          "name": "stdout",
          "text": [
            "Accuracy: 0.8111009593421654\n",
            "\n",
            "Confusion Matrix:\n",
            " [[1972    0    0    0    0]\n",
            " [   0 1960    3    0    0]\n",
            " [   0    0 1963    0    0]\n",
            " [   0    0    0  579  864]\n",
            " [   0    0    0  787  628]]\n",
            "\n",
            "Classification Report:\n",
            "               precision    recall  f1-score   support\n",
            "\n",
            "           0       1.00      1.00      1.00      1972\n",
            "           1       1.00      1.00      1.00      1963\n",
            "           2       1.00      1.00      1.00      1963\n",
            "           3       0.42      0.40      0.41      1443\n",
            "           4       0.42      0.44      0.43      1415\n",
            "\n",
            "    accuracy                           0.81      8756\n",
            "   macro avg       0.77      0.77      0.77      8756\n",
            "weighted avg       0.81      0.81      0.81      8756\n",
            "\n"
          ]
        }
      ],
      "source": [
        "# Import required libraries\n",
        "import pandas as pd\n",
        "from sklearn.preprocessing import LabelEncoder\n",
        "from sklearn.model_selection import train_test_split\n",
        "from sklearn.neighbors import KNeighborsClassifier\n",
        "from sklearn.metrics import classification_report, confusion_matrix, accuracy_score\n",
        "\n",
        "# Load data\n",
        "df = pd.read_csv(\"/content/animal_disease_dataset.csv\")\n",
        "\n",
        "# Combine symptoms into a single list of unique symptoms\n",
        "all_symptoms = pd.Series(df[['Symptom 1', 'Symptom 2', 'Symptom 3']].values.ravel()).unique()\n",
        "\n",
        "# One-hot encode symptoms\n",
        "for symptom in all_symptoms:\n",
        "    df[symptom] = df.apply(lambda row: int(symptom in [row['Symptom 1'], row['Symptom 2'], row['Symptom 3']]), axis=1)\n",
        "\n",
        "# Drop original symptom columns\n",
        "df.drop(['Symptom 1', 'Symptom 2', 'Symptom 3'], axis=1, inplace=True)\n",
        "\n",
        "# Encode 'Animal' and 'Disease' columns\n",
        "le_animal = LabelEncoder()\n",
        "df['Animal'] = le_animal.fit_transform(df['Animal'])\n",
        "\n",
        "le_disease = LabelEncoder()\n",
        "df['Disease'] = le_disease.fit_transform(df['Disease'])\n",
        "\n",
        "# Features and target\n",
        "X = df.drop('Disease', axis=1)\n",
        "y = df['Disease']\n",
        "\n",
        "# Train-test split\n",
        "X_train, X_test, y_train, y_test = train_test_split(X, y, test_size=0.2, random_state=42)\n",
        "\n",
        "# KNN Classifier\n",
        "knn = KNeighborsClassifier(n_neighbors=5)\n",
        "knn.fit(X_train, y_train)\n",
        "\n",
        "# Predictions and Evaluation\n",
        "y_pred = knn.predict(X_test)\n",
        "\n",
        "print(\"Accuracy:\", accuracy_score(y_test, y_pred))\n",
        "print(\"\\nConfusion Matrix:\\n\", confusion_matrix(y_test, y_pred))\n",
        "print(\"\\nClassification Report:\\n\", classification_report(y_test, y_pred))\n"
      ]
    },
    {
      "cell_type": "code",
      "source": [
        "# Function to predict disease based on user input\n",
        "def predict_from_user_input():\n",
        "    print(\"\\n--- Animal Disease Predictor ---\")\n",
        "\n",
        "    # Show valid animal types\n",
        "    print(\"\\nAvailable Animal Types:\", list(le_animal.classes_))\n",
        "    animal = input(\"Enter animal type: \").strip().lower()\n",
        "    if animal not in le_animal.classes_:\n",
        "        print(\"Invalid animal type!\")\n",
        "        return\n",
        "\n",
        "    age = int(input(\"Enter age of the animal: \"))\n",
        "    temp = float(input(\"Enter temperature of the animal: \"))\n",
        "\n",
        "    print(\"\\nAvailable Symptoms:\", list(all_symptoms))\n",
        "    symptoms = []\n",
        "    for i in range(1, 4):\n",
        "        symptom = input(f\"Enter Symptom {i}: \").strip().lower()\n",
        "        if symptom not in all_symptoms:\n",
        "            print(\"Invalid symptom!\")\n",
        "            return\n",
        "        symptoms.append(symptom)\n",
        "\n",
        "    # Create input row\n",
        "    input_data = dict.fromkeys(X.columns, 0)\n",
        "    input_data['Animal'] = le_animal.transform([animal])[0]\n",
        "    input_data['Age'] = age\n",
        "    input_data['Temperature'] = temp\n",
        "\n",
        "    for symptom in symptoms:\n",
        "        if symptom in input_data:\n",
        "            input_data[symptom] = 1\n",
        "\n",
        "    input_df = pd.DataFrame([input_data])\n",
        "    prediction_encoded = knn.predict(input_df)[0]\n",
        "    prediction = le_disease.inverse_transform([prediction_encoded])[0]\n",
        "\n",
        "    print(f\"\\n🩺 Predicted Disease: {prediction}\")\n",
        "\n",
        "# Run the input function\n",
        "predict_from_user_input()\n"
      ],
      "metadata": {
        "colab": {
          "base_uri": "https://localhost:8080/"
        },
        "id": "ed7WNHsx_evy",
        "outputId": "8b6d05a6-a313-4223-bd82-94b7123b85d6"
      },
      "execution_count": 5,
      "outputs": [
        {
          "output_type": "stream",
          "name": "stdout",
          "text": [
            "\n",
            "--- Animal Disease Predictor ---\n",
            "\n",
            "Available Animal Types: ['buffalo', 'cow', 'goat', 'sheep']\n",
            "Enter animal type: cow\n",
            "Enter age of the animal: 34\n",
            "Enter temperature of the animal: 100\n",
            "\n",
            "Available Symptoms: ['depression', 'painless lumps', 'loss of appetite', 'swelling in limb', 'crackling sound', 'blisters on gums', 'difficulty walking', 'blisters on tongue', 'lameness', 'blisters on mouth', 'chills', 'swelling in extremities', 'shortness of breath', 'sores on mouth', 'sores on tongue', 'sores on gums', 'fatigue', 'sweats', 'chest discomfort', 'sores on hooves', 'swelling in abdomen', 'swelling in muscle', 'blisters on hooves', 'swelling in neck']\n",
            "Enter Symptom 1: depression\n",
            "Enter Symptom 2: painless lumps\n",
            "Enter Symptom 3: blisters on gums\n",
            "\n",
            "🩺 Predicted Disease: pneumonia\n"
          ]
        }
      ]
    }
  ]
}